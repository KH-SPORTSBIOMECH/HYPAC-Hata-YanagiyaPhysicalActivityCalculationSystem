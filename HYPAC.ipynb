{
  "nbformat": 4,
  "nbformat_minor": 0,
  "metadata": {
    "colab": {
      "provenance": [],
      "mount_file_id": "https://github.com/KH-SPORTSBIOMECH/HYPAC-Physical-Activity-Calculator/blob/main/HYPAC.ipynb",
      "authorship_tag": "ABX9TyM4ysDuyo+TfvOkOHkS4MFJ",
      "include_colab_link": true
    },
    "kernelspec": {
      "name": "python3",
      "display_name": "Python 3"
    },
    "language_info": {
      "name": "python"
    }
  },
  "cells": [
    {
      "cell_type": "markdown",
      "metadata": {
        "id": "view-in-github",
        "colab_type": "text"
      },
      "source": [
        "<a href=\"https://colab.research.google.com/github/KH-SPORTSBIOMECH/HYPAC-Physical-Activity-Calculator/blob/main/HYPAC.ipynb\" target=\"_parent\"><img src=\"https://colab.research.google.com/assets/colab-badge.svg\" alt=\"Open In Colab\"/></a>"
      ]
    },
    {
      "cell_type": "code",
      "source": [
        "pip install fitdecode"
      ],
      "metadata": {
        "id": "cbUQsGu-LnVO"
      },
      "execution_count": null,
      "outputs": []
    },
    {
      "cell_type": "code",
      "execution_count": 2,
      "metadata": {
        "id": "SldpKyw0Kn8x"
      },
      "outputs": [],
      "source": [
        "import pandas as pd\n",
        "import numpy as np\n",
        "import math\n",
        "from geopy.distance import geodesic\n",
        "from tqdm import trange\n",
        "import folium\n",
        "from folium.plugins import HeatMap\n",
        "import requests\n",
        "from tqdm import trange\n",
        "import fitdecode\n",
        "from folium.plugins import HeatMap"
      ]
    },
    {
      "cell_type": "code",
      "source": [
        "\"\"\"\n",
        "BodyMass: Body mass including the body weight and all gears (shoes, bagpack, and something like that)\n",
        "REE: Resting Energy Expenditure (mL/min/kg), default value is set at 3.5 mL/min/kg.\n",
        "HEAT: Heat production (kcal), default value is set at 4.85 kcal.\n",
        "\"\"\"\n",
        "\n",
        "BodyMass = 60\n",
        "REE  = 3.5\n",
        "HEAT = 4.85"
      ],
      "metadata": {
        "id": "7GOP2qpecw8-"
      },
      "execution_count": 3,
      "outputs": []
    },
    {
      "cell_type": "markdown",
      "source": [
        "---\n",
        "# **Import .fit data**"
      ],
      "metadata": {
        "id": "8ozJJdJxPkc-"
      }
    },
    {
      "cell_type": "code",
      "source": [
        "# Import .fit file\n",
        "def GarminDataSet(file_path):\n",
        "    datas = []\n",
        "    with fitdecode.FitReader(file_path) as fit:\n",
        "        for frame in fit:\n",
        "\n",
        "            if isinstance(frame, fitdecode.FitDataMessage):\n",
        "                if frame.name == 'record':\n",
        "                    data = {}\n",
        "                    for field in frame.fields:\n",
        "                        data[field.name] = field.value\n",
        "                        data[field.name + '_units'] = field.units\n",
        "                    datas.append(data)\n",
        "    return datas"
      ],
      "metadata": {
        "id": "8Dfd4tfiLWGC"
      },
      "execution_count": 4,
      "outputs": []
    },
    {
      "cell_type": "code",
      "source": [
        "file_path = \"/content/sample_data/Sample.fit\" #Select .fit data\n",
        "\n",
        "Data = pd.DataFrame(GarminDataSet(file_path))"
      ],
      "metadata": {
        "id": "0oV3lZo0Nvs0"
      },
      "execution_count": 6,
      "outputs": []
    },
    {
      "cell_type": "markdown",
      "source": [
        "---\n",
        "# **GPS dataset**\n"
      ],
      "metadata": {
        "id": "_hNlydS2RIzo"
      }
    },
    {
      "cell_type": "code",
      "source": [
        "def decode_lat_long(int_value):\n",
        "    ## The coordinates (latitude and longitude) in .fit file are represented in hexadecimal and encoded as 32-bit integers during export.\n",
        "    ## This fuction is convert 32-bit integers to decimal the latitude and longitude.\n",
        "    degrees = int_value * (180.0 / 2**31)\n",
        "    return degrees\n",
        "\n",
        "def getAltitude(Latitude, Longitude):\n",
        "    Altitude_list = []\n",
        "    dAltitude_list = []\n",
        "    for i in trange(Latitude.size - 1):\n",
        "        API = \"http://cyberjapandata2.gsi.go.jp/general/dem/scripts/getelevation.php/?lon=%s&lat=%s&outtype=%s\" % (Longitude[i], Latitude[i], \"JSON\")\n",
        "\n",
        "        retries = 5\n",
        "        for _ in range(retries):\n",
        "            response = requests.get(API)\n",
        "\n",
        "            if response.status_code == 200:\n",
        "                try:\n",
        "                    APIdata = response.json()\n",
        "                    Altitude_i = APIdata.get(\"elevation\", 0)\n",
        "                    Altitude_list.append(Altitude_i)\n",
        "                    break\n",
        "                except ValueError as e:\n",
        "                    print(f\"ValueError: {e}\")\n",
        "\n",
        "            else:\n",
        "                print(f\"Request failed with status code {response.status_code}\")\n",
        "\n",
        "        else:\n",
        "            print(\"All retries failed for API request\")\n",
        "            Altitude_list.append(0)  # Append 0 as default value if all retries fail\n",
        "\n",
        "    Altitude = pd.Series(Altitude_list).replace(\"-----\", 0).reset_index(drop=True)\n",
        "    dAltitude = Altitude.diff().fillna(0)\n",
        "\n",
        "    return Altitude, dAltitude"
      ],
      "metadata": {
        "id": "YNIfF0H7zGRo"
      },
      "execution_count": 7,
      "outputs": []
    },
    {
      "cell_type": "code",
      "source": [
        "# decode the coordinations\n",
        "def decode_lat_long(int_value):\n",
        "    ## The coordinates (latitude and longitude) in .fit file are represented in hexadecimal and encoded as 32-bit integers during export.\n",
        "    ## This fuction is convert 32-bit integers to decimal the latitude and longitude.\n",
        "    degrees = int_value * (180.0 / 2**31)\n",
        "    return degrees\n",
        "\n",
        "\n",
        "\n",
        "# get Altitude and dAltitude\n",
        "def getAltitude(Latitude, Longitude):\n",
        "    Altitude_list = []\n",
        "    dAltitude_list = []\n",
        "    for i in trange(Latitude.size - 1):\n",
        "        API = \"http://cyberjapandata2.gsi.go.jp/general/dem/scripts/getelevation.php/?lon=%s&lat=%s&outtype=%s\" % (Longitude[i], Latitude[i], \"JSON\")\n",
        "\n",
        "        retries = 5\n",
        "        for _ in range(retries):\n",
        "            response = requests.get(API)\n",
        "\n",
        "            if response.status_code == 200:\n",
        "                try:\n",
        "                    APIdata = response.json()\n",
        "                    Altitude_i = APIdata.get(\"elevation\", 0)\n",
        "                    Altitude_list.append(Altitude_i)\n",
        "                    break\n",
        "                except ValueError as e:\n",
        "                    print(f\"ValueError: {e}\")\n",
        "\n",
        "            else:\n",
        "                print(f\"Request failed with status code {response.status_code}\")\n",
        "\n",
        "        else:\n",
        "            print(\"All retries failed for API request\")\n",
        "            Altitude_list.append(0)  # Append 0 as default value if all retries fail\n",
        "\n",
        "    Altitude_list.append(0)\n",
        "    Altitude = pd.Series(Altitude_list).replace(\"-----\", 0).reset_index(drop=True)\n",
        "    dAltitude = Altitude.diff().fillna(0)\n",
        "\n",
        "    return Altitude, dAltitude\n",
        "\n",
        "\n",
        "\n",
        "#Preparete GPS dataset\n",
        "def getGPSdataset(Data):\n",
        "    Latitude  = decode_lat_long(Data[\"position_lat\"])\n",
        "    Longitude = decode_lat_long(Data[\"position_long\"])\n",
        "    [Altitude, dAltitude] = getAltitude(Latitude, Longitude)\n",
        "    print(Latitude.size)\n",
        "    print(Altitude.size)\n",
        "\n",
        "    ## Distance considering the slope\n",
        "    Distance_list = [0]\n",
        "    dAltitude_list = []\n",
        "    for i in range(0,Latitude.size-1):\n",
        "        location1 = (Latitude.iloc[i], Longitude.iloc[i])\n",
        "        location2 = (Latitude.iloc[i+1], Longitude.iloc[i+1])\n",
        "        distance_i = round((geodesic(location1, location2).km), 10)\n",
        "\n",
        "        dAltitude_i = (Altitude[i+1] - Altitude[i])/1000 # (km)\n",
        "        dAltitude_list.append(dAltitude_i)\n",
        "\n",
        "        Distance_c_i = math.sqrt(distance_i**2 + dAltitude_i**2)\n",
        "        Distance_list.append(Distance_c_i)\n",
        "\n",
        "    #Distance_list.append(0)\n",
        "    TotalDistance = float(pd.DataFrame(Distance_list).sum().values) #(km)\n",
        "\n",
        "    print(pd.DataFrame(Distance_list).size)\n",
        "\n",
        "    GPS_dataset = pd.DataFrame({\n",
        "        \"Latitude\": Latitude,\n",
        "        \"Longitude\": Longitude,\n",
        "        \"Altitude (km)\": Altitude/1000,\n",
        "        \"dAltitude (km)\": dAltitude/1000,\n",
        "        \"Distance (km)\": Distance_list,\n",
        "        \"dTime (s)\": Data['timestamp'].diff().dt.total_seconds(),\n",
        "        \"dTime (min)\": Data['timestamp'].diff() / pd.Timedelta('1 minutes'),\n",
        "        \"dTime (h)\": Data['timestamp'].diff() / pd.Timedelta('1 hour')\n",
        "    })\n",
        "\n",
        "    GPS_dataset[GPS_dataset != GPS_dataset] = 0\n",
        "    return GPS_dataset"
      ],
      "metadata": {
        "id": "GmccdePwRr7f"
      },
      "execution_count": 8,
      "outputs": []
    },
    {
      "cell_type": "code",
      "source": [
        "GPS_dataset = getGPSdataset(Data)\n",
        "GPS_dataset"
      ],
      "metadata": {
        "id": "wBRS_xo1WzpD"
      },
      "execution_count": null,
      "outputs": []
    },
    {
      "cell_type": "markdown",
      "source": [
        "\n",
        "\n",
        "---\n",
        "\n",
        "\n",
        "# **Calculate method for physical activitiy**\n",
        "\n",
        "\n"
      ],
      "metadata": {
        "id": "AcxlFMDZdBWw"
      }
    },
    {
      "cell_type": "code",
      "source": [
        "def main2(GPS_datdaset, BW, REE):\n",
        "    dTime = GPS_datdaset[\"dTime (h)\"]\n",
        "\n",
        "    ### Velocity (km/h)\n",
        "    Velocity = GPS_datdaset[\"Distance (km)\"] / GPS_datdaset[\"dTime (h)\"]\n",
        "\n",
        "    ### Grade (%)\n",
        "    Grade = ((GPS_datdaset[\"dAltitude (km)\"]/GPS_datdaset[\"Distance (km)\"])*100).replace([np.inf, -np.inf], np.nan).fillna(0)\n",
        "\n",
        "    VO2rate_GRADE_list = []\n",
        "    Grade_factor_list = []\n",
        "    RUNorWALK = []\n",
        "    METs_raw_list = []\n",
        "    METs_list = []\n",
        "    VO2_list = []\n",
        "    EnergyExpenditure_list = []\n",
        "    for i in trange(0, Velocity.size):\n",
        "        ### STEP1: Velocity ###################################################################################\n",
        "        def Velocity_METs(Velocity):\n",
        "            \"\"\"\n",
        "            Regression equation fractionated at low and high speed,\n",
        "            speed intersected is set at 8.689214 km/h from the relationship between lnMETs and running speed.\n",
        "            \"\"\"\n",
        "            if Velocity < 8.689214:\n",
        "                a = 0.2245\n",
        "                b = 0.2544\n",
        "                LnMETs = (a * Velocity + b)\n",
        "                METs = np.exp(LnMETs)\n",
        "            else: #8.689214以上\n",
        "                a = 0.0654\n",
        "                b = 1.6367\n",
        "                LnMETs = (a * Velocity + b)\n",
        "                METs = np.exp(LnMETs)\n",
        "            return float(METs)\n",
        "\n",
        "        METs_Velocity_i = Velocity_METs(Velocity[i])\n",
        "\n",
        "\n",
        "        ### STEP2: Grade ######################################################################################\n",
        "        \"\"\"\n",
        "        Relationship between VO2 and Grade\n",
        "        Based on Minetti et al., 2002, J Appl Physiol 93\n",
        "        \"\"\"\n",
        "        def VO2_GRADE(GRADE):\n",
        "            a = 0.00136524\n",
        "            b = 0.051921\n",
        "            c = 1\n",
        "\n",
        "            # 傾斜に対するVO2増加率\n",
        "            VO2_GRADE = a * GRADE**2 + b * GRADE + c\n",
        "            VO2_GRADE0 = a * 0**2 + b * 0 + c\n",
        "\n",
        "            VO2rate_GRADE = VO2_GRADE / VO2_GRADE0\n",
        "            VO2_GRADE = pd.DataFrame({\"Grade\": GRADE,\n",
        "                                      \"VO2\": VO2_GRADE,\n",
        "                                      \"VO2 rate\": VO2rate_GRADE\n",
        "                                      })\n",
        "\n",
        "            return VO2_GRADE\n",
        "\n",
        "        GRADE = np.arange(-200,200.1)\n",
        "        VO2rate_GRADE = VO2_GRADE(GRADE)\n",
        "\n",
        "\n",
        "        if Grade[i] > 200:\n",
        "          Grade_i = 200\n",
        "          VO2rate_GRADE_i = float(VO2rate_GRADE.query(\"Grade==200\")[\"VO2 rate\"].values.item())\n",
        "        elif Grade[i] < -200:\n",
        "          Grade_i = -200\n",
        "          VO2rate_GRADE_i = float(VO2rate_GRADE.query(\"Grade==-200\")[\"VO2 rate\"].values.item())\n",
        "        else:\n",
        "          Grade_i = round(Grade[i], 0)\n",
        "          VO2rate_GRADE_i = float(VO2rate_GRADE.query(\"Grade==@Grade_i\")[\"VO2 rate\"].values.item())\n",
        "\n",
        "          VO2rate_GRADE_list.append(VO2rate_GRADE_i)\n",
        "        VO2rate_GRADE = pd.DataFrame(VO2rate_GRADE_list)\n",
        "\n",
        "\n",
        "        ### STEP3: Estimate Enery expediture ###################################################################\n",
        "\n",
        "        # Multiply METs by the Grade coefficient.\n",
        "        METs_grade_i = METs_Velocity_i * VO2rate_GRADE_i #(MET) *Taking into account the grade factor\n",
        "        Grade_factor_list.append(VO2rate_GRADE_i)\n",
        "\n",
        "        METs_grade_i = float(METs_grade_i)\n",
        "\n",
        "        METs_raw_list.append(METs_Velocity_i)\n",
        "        METs_list.append(METs_grade_i)\n",
        "\n",
        "        VO2_i = (METs_grade_i * REE) #(mL/min/kg)\n",
        "        VO2_list.append(VO2_i)\n",
        "\n",
        "        EnergyExpenditure_i = (METs_grade_i * dTime[i]) #(METs*hr)\n",
        "        EnergyExpenditure_list.append(EnergyExpenditure_i) #(kcal)\n",
        "\n",
        "    METs = pd.DataFrame(METs_list) #(MET)\n",
        "    VO2 = pd.DataFrame(VO2_list) #(L/kg/h)\n",
        "    EnergyExpenditure = pd.DataFrame(EnergyExpenditure_list) #(METs-h)\n",
        "\n",
        "    RESULTS = pd.DataFrame()\n",
        "    RESULTS[\"Velocity(km/h)\"] = Velocity\n",
        "    RESULTS[\"METs\"] = METs_raw_list            #METs estimated from running speed\n",
        "    RESULTS[\"METs(cal grade factor)\"] = METs   #METs where grade factor is taken into account.\n",
        "    RESULTS[\"Grade factor\"] = Grade_factor_list\n",
        "    RESULTS[\"VO2(mL/min/kg)\"] = VO2\n",
        "    RESULTS[\"EnergyExpenditure(METs-h)\"] = EnergyExpenditure\n",
        "\n",
        "    RESULTS[RESULTS != RESULTS] = 0\n",
        "    return RESULTS\n",
        "\n"
      ],
      "metadata": {
        "id": "NbklCMsGdaED"
      },
      "execution_count": 10,
      "outputs": []
    },
    {
      "cell_type": "code",
      "source": [
        "GPS_RESULTS = main2(GPS_dataset, BodyMass, REE)\n",
        "GPS_RESULTS"
      ],
      "metadata": {
        "id": "cCaT-iTcLqGj"
      },
      "execution_count": null,
      "outputs": []
    },
    {
      "cell_type": "markdown",
      "source": [
        "\n",
        "\n",
        "---\n",
        "\n",
        "**Graphical result for physical activity over the entire running distance**"
      ],
      "metadata": {
        "id": "_U8Sm77GVzyq"
      }
    },
    {
      "cell_type": "code",
      "source": [
        "from google.colab import drive\n",
        "drive.mount('/content/drive')"
      ],
      "metadata": {
        "id": "X7Y03WtFT1du"
      },
      "execution_count": null,
      "outputs": []
    },
    {
      "cell_type": "code",
      "source": [
        "map_center = [GPS_dataset[\"Latitude\"].loc[1], GPS_dataset[\"Longitude\"].loc[1]]\n",
        "\n",
        "mymap = folium.Map(location=map_center, zoom_start=15.5)\n",
        "\n",
        "HeatMap(list(zip(GPS_dataset[\"Latitude\"], GPS_dataset[\"Longitude\"], GPS_RESULTS[\"VO2(mL/min/kg)\"])), radius=10, blur=10).add_to(mymap)\n",
        "\n",
        "mymap.save('/content/sample_data/Result.html')\n",
        "\n",
        "# When you are running this code in the Colab, you need to download the Result.html after getting the result.\n",
        "# You do not open Result.html by double-clicking."
      ],
      "metadata": {
        "id": "ePhU1R8hVzQF"
      },
      "execution_count": 15,
      "outputs": []
    }
  ]
}